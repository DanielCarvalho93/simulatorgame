{
 "cells": [
  {
   "cell_type": "code",
   "execution_count": 1,
   "metadata": {},
   "outputs": [],
   "source": [
    "import pandas as pd\n",
    "import numpy as np\n",
    "import scipy.stats as st"
   ]
  },
  {
   "cell_type": "code",
   "execution_count": 2,
   "metadata": {},
   "outputs": [],
   "source": [
    "## 1. set the hypothesis\n",
    "## 2. choose the significance level\n",
    "## 3. sample\n",
    "## 4. Compute statistic\n",
    "## 5. Get p-value\n",
    "## 6. Decide"
   ]
  },
  {
   "cell_type": "code",
   "execution_count": 3,
   "metadata": {},
   "outputs": [
    {
     "name": "stdout",
     "output_type": "stream",
     "text": [
      "Ttest_indResult(statistic=-1.2583057392117911, pvalue=0.21595789272090835)\n"
     ]
    },
    {
     "data": {
      "text/plain": [
       "False"
      ]
     },
     "execution_count": 3,
     "metadata": {},
     "output_type": "execute_result"
    }
   ],
   "source": [
    "# 1. Set the Hypthesis - Independent test\n",
    "\n",
    "\"H0: The success of players with high hidden stats is equal to the success of the players with high visible stats\"\n",
    "\"H1: The success of players with high hidden stats is different to the success of the players with high visible stats\"\n",
    "\n",
    "\n",
    "# 2. Choose significance level\n",
    "\n",
    "alpha = 0.05\n",
    "\n",
    "# 3. Sample\n",
    "\n",
    "data = pd.read_excel(r'C:\\Users\\Daniel Carvalho\\Desktop\\Project 5\\hidden_vs_visible.xlsx')\n",
    "\n",
    "hidden_sample = data['Hiden Atributes']\n",
    "visible_sample = data['Visible Atributes']\n",
    "\n",
    "# 4. Compute statistic\n",
    "\n",
    "print(st.ttest_ind(hidden_sample, visible_sample, equal_var= True))\n",
    "\n",
    "# 5 and 6. P value and Decision\n",
    "\n",
    "0.21595789272090835 < alpha"
   ]
  },
  {
   "cell_type": "code",
   "execution_count": 51,
   "metadata": {},
   "outputs": [
    {
     "data": {
      "text/plain": [
       "'In this case we cannot reject that the success of players with high hidden stats that could possibly have the same amount of\\nimpact as players with higher visible attributes. We stay believing that there is a chance they can have the same impact or lesser impact\\nand therefore we can with a 95% confidence disprove the theory people have that hidden stats have more weight then the visible one'"
      ]
     },
     "execution_count": 51,
     "metadata": {},
     "output_type": "execute_result"
    }
   ],
   "source": [
    "\"\"\"In this case we cannot reject that the success of players with high hidden stats that could possibly have the same amount of\n",
    "impact as players with higher visible attributes. We stay believing that there is a chance they can have the same impact or lesser impact\n",
    "and therefore we can with a 95% confidence disprove the theory people have that hidden stats have more weight then the visible one\"\"\""
   ]
  },
  {
   "cell_type": "code",
   "execution_count": 49,
   "metadata": {},
   "outputs": [
    {
     "data": {
      "text/plain": [
       "-1.2583057392117911"
      ]
     },
     "execution_count": 49,
     "metadata": {},
     "output_type": "execute_result"
    }
   ],
   "source": [
    "var1 = hidden_sample.var(ddof=1)\n",
    "mean1 = hidden_sample.mean()\n",
    "var2 = visible_sample.var(ddof=1)\n",
    "mean2 = visible_sample.mean()\n",
    "n = 20\n",
    "\n",
    "t_stats = (mean1-mean2)/np.sqrt((var1)/n+(var2)/n)\n",
    "t_stats"
   ]
  },
  {
   "cell_type": "code",
   "execution_count": null,
   "metadata": {},
   "outputs": [],
   "source": []
  }
 ],
 "metadata": {
  "kernelspec": {
   "display_name": "Python 3.9.13 ('Classes')",
   "language": "python",
   "name": "python3"
  },
  "language_info": {
   "codemirror_mode": {
    "name": "ipython",
    "version": 3
   },
   "file_extension": ".py",
   "mimetype": "text/x-python",
   "name": "python",
   "nbconvert_exporter": "python",
   "pygments_lexer": "ipython3",
   "version": "3.9.13"
  },
  "orig_nbformat": 4,
  "vscode": {
   "interpreter": {
    "hash": "b56b83a77b69817771c5ed78805d5acb0dbb6e361a4327e0e70027e0f158efcf"
   }
  }
 },
 "nbformat": 4,
 "nbformat_minor": 2
}
